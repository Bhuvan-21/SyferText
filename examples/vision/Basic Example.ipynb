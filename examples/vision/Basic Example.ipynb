{
 "cells": [
  {
   "cell_type": "code",
   "execution_count": 1,
   "metadata": {},
   "outputs": [],
   "source": [
    "import torch\n",
    "from torchvision import transforms\n",
    "import numpy"
   ]
  },
  {
   "cell_type": "code",
   "execution_count": 2,
   "metadata": {},
   "outputs": [
    {
     "name": "stdout",
     "output_type": "stream",
     "text": [
      "/home/bhuvan/syfer/src\n"
     ]
    }
   ],
   "source": [
    "cd ../../src"
   ]
  },
  {
   "cell_type": "code",
   "execution_count": 3,
   "metadata": {},
   "outputs": [],
   "source": [
    "import syfervision"
   ]
  },
  {
   "cell_type": "code",
   "execution_count": 4,
   "metadata": {},
   "outputs": [],
   "source": [
    "from syfervision.data.datameta.image_modelling import ImageDataMeta"
   ]
  },
  {
   "cell_type": "code",
   "execution_count": 5,
   "metadata": {},
   "outputs": [],
   "source": [
    "t_path = \"/home/bhuvan/CelebA_Gender\" #add you path, a folder with sub folders for classes\n",
    "meta = ImageDataMeta(train_path = t_path)"
   ]
  },
  {
   "cell_type": "code",
   "execution_count": null,
   "metadata": {},
   "outputs": [],
   "source": [
    "\n"
   ]
  },
  {
   "cell_type": "code",
   "execution_count": null,
   "metadata": {},
   "outputs": [],
   "source": []
  },
  {
   "cell_type": "code",
   "execution_count": 6,
   "metadata": {},
   "outputs": [],
   "source": [
    "from syfervision.data.datareader.image_modelling import ImageDataReader\n",
    "from syfervision.transforms.image_modelling import ToTensor, Resize\n",
    "\n",
    "\n",
    "reader = ImageDataReader(meta, 'train', [Resize((100, 100)), ToTensor()])"
   ]
  },
  {
   "cell_type": "code",
   "execution_count": 7,
   "metadata": {},
   "outputs": [],
   "source": [
    "from syfervision.data.dataloader.image_modelling import ImageDataLoader"
   ]
  },
  {
   "cell_type": "code",
   "execution_count": 8,
   "metadata": {},
   "outputs": [],
   "source": [
    "loader = ImageDataLoader(reader, batch_size = 32, shuffle = True)"
   ]
  },
  {
   "cell_type": "code",
   "execution_count": 9,
   "metadata": {},
   "outputs": [
    {
     "name": "stdout",
     "output_type": "stream",
     "text": [
      "torch.Size([32, 3, 100, 100]) torch.Size([32])\n",
      "torch.Size([32, 3, 100, 100]) torch.Size([32])\n",
      "torch.Size([32, 3, 100, 100]) torch.Size([32])\n",
      "torch.Size([32, 3, 100, 100]) torch.Size([32])\n",
      "torch.Size([32, 3, 100, 100]) torch.Size([32])\n",
      "torch.Size([32, 3, 100, 100]) torch.Size([32])\n",
      "torch.Size([32, 3, 100, 100]) torch.Size([32])\n",
      "torch.Size([32, 3, 100, 100]) torch.Size([32])\n",
      "torch.Size([32, 3, 100, 100]) torch.Size([32])\n",
      "torch.Size([32, 3, 100, 100]) torch.Size([32])\n",
      "torch.Size([32, 3, 100, 100]) torch.Size([32])\n",
      "torch.Size([32, 3, 100, 100]) torch.Size([32])\n"
     ]
    }
   ],
   "source": [
    "for i, (images, labels) in enumerate(loader.load()):\n",
    "    \n",
    "    print(images.shape, labels.shape)\n",
    "    \n",
    "    if(i > 10): break\n"
   ]
  },
  {
   "cell_type": "code",
   "execution_count": 10,
   "metadata": {},
   "outputs": [
    {
     "data": {
      "text/plain": [
       "202599"
      ]
     },
     "execution_count": 10,
     "metadata": {},
     "output_type": "execute_result"
    }
   ],
   "source": [
    "len(loader)"
   ]
  },
  {
   "cell_type": "code",
   "execution_count": 11,
   "metadata": {},
   "outputs": [
    {
     "data": {
      "text/plain": [
       "6332"
      ]
     },
     "execution_count": 11,
     "metadata": {},
     "output_type": "execute_result"
    }
   ],
   "source": [
    "loader.num_batches"
   ]
  },
  {
   "cell_type": "code",
   "execution_count": 12,
   "metadata": {},
   "outputs": [],
   "source": [
    "images, labels = loader.next_iter()"
   ]
  },
  {
   "cell_type": "code",
   "execution_count": 13,
   "metadata": {},
   "outputs": [
    {
     "data": {
      "text/plain": [
       "Text(0.5, 1.0, 'Male')"
      ]
     },
     "execution_count": 13,
     "metadata": {},
     "output_type": "execute_result"
    },
    {
     "data": {
      "image/png": "[encoded data removed]",
      "text/plain": [
       "<Figure size 432x288 with 1 Axes>"
      ]
     },
     "metadata": {
      "needs_background": "light"
     },
     "output_type": "display_data"
    }
   ],
   "source": [
    "import numpy as np\n",
    "import matplotlib.pyplot as plt\n",
    "import random\n",
    "\n",
    "labels_map = { 0 : \"Female\", 1 : \"Male\"}\n",
    "\n",
    "i = random.randint(0, 32)\n",
    "image1 = np.transpose((images[i]), (1, 2, 0))\n",
    "plt.imshow(image1)\n",
    "plt.title(labels_map[labels[i].item()])"
   ]
  },
  {
   "cell_type": "code",
   "execution_count": null,
   "metadata": {},
   "outputs": [],
   "source": []
  },
  {
   "cell_type": "code",
   "execution_count": null,
   "metadata": {},
   "outputs": [],
   "source": []
  }
 ],
 "metadata": {
  "kernelspec": {
   "display_name": "Python 3",
   "language": "python",
   "name": "python3"
  },
  "language_info": {
   "codemirror_mode": {
    "name": "ipython",
    "version": 3
   },
   "file_extension": ".py",
   "mimetype": "text/x-python",
   "name": "python",
   "nbconvert_exporter": "python",
   "pygments_lexer": "ipython3",
   "version": "3.7.6"
  }
 },
 "nbformat": 4,
 "nbformat_minor": 4
}
